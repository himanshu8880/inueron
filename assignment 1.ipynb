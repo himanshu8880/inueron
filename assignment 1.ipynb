{
 "cells": [
  {
   "cell_type": "raw",
   "id": "89f96d83",
   "metadata": {},
   "source": [
    "1. In the below elements which of them are values or an expression? eg:- values can be integer or string and expressions will be mathematical operators.\n",
    "* \n",
    "'hello'\n",
    "-87.8\n",
    "- \n",
    "/ \n",
    "+\n",
    "6 \n",
    "\n",
    "ans. values- 'hello',-87.8,6\n",
    "     expression- *,-,/,+"
   ]
  },
  {
   "cell_type": "raw",
   "id": "fb9d060c",
   "metadata": {},
   "source": [
    "2. What is the difference between string and variable?\n",
    "ans. A string is a value representing text. a variable is a name that can refer to any value. "
   ]
  },
  {
   "cell_type": "raw",
   "id": "a36b2306",
   "metadata": {},
   "source": [
    "3. Describe three different data types.\n",
    "ans. 1. List- Lists are just like the arrays, declared in other languages which is a ordered collection of data. It is very               flexible as the items in a list do not need to be of the same type.\n",
    "     2.  Tuple- Just like list, tuple is also an ordered collection of Python objects. The only difference between tuple                   and list is that tuples are immutable i.e. tuples cannot be modified after it is created. It is represented                 by tuple class.\n",
    "     3. Dictionary- Dictionary in Python is an unordered collection of data values, used to store data values like a map,                       which unlike other Data Types that hold only single value as an element, Dictionary holds key:value                         pair. Key-value is provided in the dictionary to make it more optimized. Each key-value pair in a                           Dictionary is separated by a colon :, whereas each key is separated by a ‘comma’."
   ]
  },
  {
   "cell_type": "raw",
   "id": "f182cc10",
   "metadata": {},
   "source": [
    "4. What is an expression made up of? What do all expressions do?\n",
    "ans. Expression is made up of values, containers, and mathematical operators (operands) e.g a = 2 + 3 and expressions are        used to evaluate the values or represent the result on the screen. 5."
   ]
  },
  {
   "cell_type": "raw",
   "id": "0e88c37b",
   "metadata": {},
   "source": [
    "5. This assignment statements, like spam = 10. What is the difference between an expression and a statement?\n",
    "ans. Expressions only contain identifiers, literals and operators.\n",
    "     Statements, on the other hand, are everything that can make up a line (or several lines) of Python code."
   ]
  },
  {
   "cell_type": "raw",
   "id": "f957e23a",
   "metadata": {},
   "source": [
    "6. After running the following code, what does the variable bacon contain?\n",
    "bacon = 22\n",
    "bacon + 1\n",
    "ans. bacon contain 22"
   ]
  },
  {
   "cell_type": "raw",
   "id": "b757ec2a",
   "metadata": {},
   "source": [
    "7. What should the values of the following two terms be?\n",
    "'spam' + 'spamspam'\n",
    "'spam' * 3\n",
    "ans. 'spamspamspam'\n",
    "     'spamspamspam'\n",
    "     so both the outputs are same"
   ]
  },
  {
   "cell_type": "raw",
   "id": "ae828b5b",
   "metadata": {},
   "source": [
    "8. Why is eggs a valid variable name while 100 is invalid?\n",
    "ans. Because 100 is a digit so variable can't be start with digit"
   ]
  },
  {
   "cell_type": "raw",
   "id": "6b149567",
   "metadata": {},
   "source": [
    "9. What three functions can be used to get the integer, floating-point number, or string version of a value?\n",
    "ans. three functions are int,float,str"
   ]
  },
  {
   "cell_type": "raw",
   "id": "a21fd710",
   "metadata": {},
   "source": [
    "10. Why does this expression cause an error? How can you fix it?\n",
    "'I have eaten ' + 99 + ' burritos.'\n",
    "ans. this expression give TypeError because cannot concatenate str with int\n",
    "     we can fix this by converting '99' into string and the output is 'I have eaten 99 burritos.'\n"
   ]
  }
 ],
 "metadata": {
  "kernelspec": {
   "display_name": "Python 3 (ipykernel)",
   "language": "python",
   "name": "python3"
  },
  "language_info": {
   "codemirror_mode": {
    "name": "ipython",
    "version": 3
   },
   "file_extension": ".py",
   "mimetype": "text/x-python",
   "name": "python",
   "nbconvert_exporter": "python",
   "pygments_lexer": "ipython3",
   "version": "3.9.7"
  }
 },
 "nbformat": 4,
 "nbformat_minor": 5
}

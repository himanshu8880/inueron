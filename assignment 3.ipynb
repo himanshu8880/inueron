{
 "cells": [
  {
   "cell_type": "raw",
   "id": "f7f4bf72",
   "metadata": {},
   "source": [
    "1. Why are functions advantageous to have in your programs?\n",
    "ans. Functions are advantageous because\n",
    "Organization -- As programs grow in complexity, having all the code live inside the main() function becomes                                 increasingly complicated. A function is almost like a mini-program that we can write separately from                       the main program, without having to think about the rest of the program while we write it. This allows                     us to reduce a complicated program into smaller, more manageable chunks, which reduces the overall                         complexity of our program.\n",
    "Reusability -- Once a function is written, it can be called multiple times from within the program. This avoids duplicated                code (“Don’t Repeat Yourself”) and minimizes the probability of copy/paste errors. Functions can also be                    shared with other programs, reducing the amount of code that has to be written from scratch (and retested)                  each time.\n",
    "Testing -- Because functions reduce code redundancy, there’s less code to test in the first place. Also because functions              are self-contained, once we’ve tested a function to ensure it works, we don’t need to test it again unless we              change it. This reduces the amount of code we have to test at one time, making it much easier to find bugs (or              avoid them in the first place).\n",
    "Extensibility -- When we need to extend our program to handle a case it didn’t handle before, functions allow us to make                    the change in one place and have that change take effect every time the function is called.\n",
    "Abstraction -- In order to use a function, you only need to know its name, inputs, outputs, and where it lives. You don’t                  need to know how it works, or what other code it’s dependent upon to use it. This lowers the amount of                      knowledge required to use other people’s code (including everything in the standard library).  "
   ]
  },
  {
   "cell_type": "raw",
   "id": "974ac220",
   "metadata": {},
   "source": [
    "2. When does the code in a function run: when it's specified or when it's called?\n",
    "ans. A function is a block of code that only runs when it is called"
   ]
  },
  {
   "cell_type": "raw",
   "id": "fd0ff295",
   "metadata": {},
   "source": [
    "3. What statement creates a function?\n",
    "ans. def"
   ]
  },
  {
   "cell_type": "raw",
   "id": "03d52531",
   "metadata": {},
   "source": [
    "4. What is the difference between a function and a function call?\n",
    "ans. the difference between the function and function call is, A function is procedure to achieve a particular result while      function call is using this function to achive that task."
   ]
  },
  {
   "cell_type": "raw",
   "id": "2d5abfad",
   "metadata": {},
   "source": [
    "5. How many global scopes are there in a Python program? How many local scopes?\n",
    "ans.Local — Inside the current function\n",
    "    Global — At the top level of the module"
   ]
  },
  {
   "cell_type": "raw",
   "id": "072a3ab4",
   "metadata": {},
   "source": [
    "6. What happens to variables in a local scope when the function call returns?\n",
    "ans. A local scope is created whenever a function is called. Any variables assigned in this function exist within the local      scope. When the function returns, the local scope is destroyed, and these variables are forgotten.\n"
   ]
  },
  {
   "cell_type": "raw",
   "id": "bf9c08e6",
   "metadata": {},
   "source": [
    "7. What is the concept of a return value? Is it possible to have a return value in an expression?\n",
    "ans.The Python return statement is a special statement that you can use inside a function or method to send the function’s     result back to the caller. A return statement consists of the return keyword followed by an optional return value. The     return value of a Python function can be any Python object. Everything in Python is an object.\n",
    "\n",
    "    A return statement is used to end the execution of the function call and “returns” the result (value of the expression     following the return keyword) to the caller. If the return statement is without any expression, then the special value     None is returned. "
   ]
  },
  {
   "cell_type": "raw",
   "id": "5b5827c9",
   "metadata": {},
   "source": [
    "8. If a function does not have a return statement, what is the return value of a call to that function?\n",
    "ans. If a function doesn't specify a return value, it returns None."
   ]
  },
  {
   "cell_type": "raw",
   "id": "66c05bb5",
   "metadata": {},
   "source": [
    "9. How do you make a function variable refer to the global variable?\n",
    "ans. by usnig the keyword global"
   ]
  },
  {
   "cell_type": "raw",
   "id": "5b67cdbb",
   "metadata": {},
   "source": [
    "10. What is the data type of None?\n",
    "ans. None keyword is an object and is a data type of none type class.   \n",
    "     None datatype doesn’t contain any value.\n",
    "     None keyword is used to define a null variable or object.\n",
    "     None keyword is immutable."
   ]
  },
  {
   "cell_type": "raw",
   "id": "fb627c03",
   "metadata": {},
   "source": [
    "11. What does the sentence import areallyourpetsnamederic do?\n"
   ]
  },
  {
   "cell_type": "code",
   "execution_count": 1,
   "id": "468e3170",
   "metadata": {},
   "outputs": [
    {
     "ename": "ModuleNotFoundError",
     "evalue": "No module named 'areallyourpetsnamederic'",
     "output_type": "error",
     "traceback": [
      "\u001b[1;31m---------------------------------------------------------------------------\u001b[0m",
      "\u001b[1;31mModuleNotFoundError\u001b[0m                       Traceback (most recent call last)",
      "\u001b[1;32mC:\\Users\\SHIVKR~1\\AppData\\Local\\Temp/ipykernel_14580/51184242.py\u001b[0m in \u001b[0;36m<module>\u001b[1;34m\u001b[0m\n\u001b[1;32m----> 1\u001b[1;33m \u001b[1;32mimport\u001b[0m \u001b[0mareallyourpetsnamederic\u001b[0m\u001b[1;33m\u001b[0m\u001b[1;33m\u001b[0m\u001b[0m\n\u001b[0m",
      "\u001b[1;31mModuleNotFoundError\u001b[0m: No module named 'areallyourpetsnamederic'"
     ]
    }
   ],
   "source": [
    "import areallyourpetsnamederic"
   ]
  },
  {
   "cell_type": "raw",
   "id": "7d34d6c9",
   "metadata": {},
   "source": [
    "12. If you had a bacon() feature in a spam module, what would you call it after importing spam?\n",
    "ans. from spam import bacon"
   ]
  },
  {
   "cell_type": "raw",
   "id": "2e9d9118",
   "metadata": {},
   "source": [
    "13. What can you do to save a programme from crashing if it encounters an error?\n",
    "ans. Exception handling"
   ]
  },
  {
   "cell_type": "raw",
   "id": "54477158",
   "metadata": {},
   "source": [
    "14. What is the purpose of the try clause? What is the purpose of the except clause?\n",
    "ans.The try block is used to check some code for errors i.e the code inside the try block will execute when there is no         error in the program. Whereas the code inside the except block will execute whenever the program encounters some error     in the preceding try block. "
   ]
  }
 ],
 "metadata": {
  "kernelspec": {
   "display_name": "Python 3 (ipykernel)",
   "language": "python",
   "name": "python3"
  },
  "language_info": {
   "codemirror_mode": {
    "name": "ipython",
    "version": 3
   },
   "file_extension": ".py",
   "mimetype": "text/x-python",
   "name": "python",
   "nbconvert_exporter": "python",
   "pygments_lexer": "ipython3",
   "version": "3.9.7"
  }
 },
 "nbformat": 4,
 "nbformat_minor": 5
}

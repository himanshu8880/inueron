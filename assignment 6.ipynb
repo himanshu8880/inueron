{
 "cells": [
  {
   "cell_type": "markdown",
   "id": "39515d95",
   "metadata": {},
   "source": [
    "1. What are escape characters, and how do you use them?"
   ]
  },
  {
   "cell_type": "markdown",
   "id": "8ddd6625",
   "metadata": {},
   "source": [
    "An escape character lets you use characters that are otherwise impossible to put into a string. An escape character consists of a backslash (\\) followed by the character you want to add to the string. There are several different different escape characters."
   ]
  },
  {
   "cell_type": "code",
   "execution_count": 3,
   "id": "c1b059fe",
   "metadata": {},
   "outputs": [
    {
     "name": "stdout",
     "output_type": "stream",
     "text": [
      "This is Michael's house\n",
      "This is Michael's house\n"
     ]
    }
   ],
   "source": [
    "print(\"This is Michael's house\")\n",
    "print('This is Michael\\'s house')"
   ]
  },
  {
   "cell_type": "markdown",
   "id": "611c2877",
   "metadata": {},
   "source": [
    "2. What do the escape characters n and t stand for?\n"
   ]
  },
  {
   "cell_type": "markdown",
   "id": "044f19c4",
   "metadata": {},
   "source": [
    "\\t -> horizontal tab\n",
    "\n",
    "\\n -> line feed-new line"
   ]
  },
  {
   "cell_type": "markdown",
   "id": "1b770824",
   "metadata": {},
   "source": [
    "3. What is the way to include backslash characters in a string?\n"
   ]
  },
  {
   "cell_type": "code",
   "execution_count": 5,
   "id": "f41fb2f7",
   "metadata": {},
   "outputs": [
    {
     "data": {
      "text/plain": [
       "'\\\\Tasks'"
      ]
     },
     "execution_count": 5,
     "metadata": {},
     "output_type": "execute_result"
    }
   ],
   "source": [
    "s = \"\\\\Tasks\"\n",
    "s"
   ]
  },
  {
   "cell_type": "markdown",
   "id": "f8893cb6",
   "metadata": {},
   "source": [
    "4. The string &quot;Howl&#39;s Moving Castle&quot; is a correct value. Why isn&#39;t the single quote character in the\n",
    "word Howl&#39;s not escaped a problem?"
   ]
  },
  {
   "cell_type": "code",
   "execution_count": 7,
   "id": "f3a28923",
   "metadata": {},
   "outputs": [
    {
     "name": "stdout",
     "output_type": "stream",
     "text": [
      "Howl's Moving Castle\n"
     ]
    }
   ],
   "source": [
    "print(\"Howl's Moving Castle\")"
   ]
  },
  {
   "cell_type": "code",
   "execution_count": 8,
   "id": "df2462e9",
   "metadata": {},
   "outputs": [
    {
     "ename": "SyntaxError",
     "evalue": "invalid syntax (Temp/ipykernel_19620/2399584445.py, line 1)",
     "output_type": "error",
     "traceback": [
      "\u001b[1;36m  File \u001b[1;32m\"C:\\Users\\SHIVKR~1\\AppData\\Local\\Temp/ipykernel_19620/2399584445.py\"\u001b[1;36m, line \u001b[1;32m1\u001b[0m\n\u001b[1;33m    print('Howl's Moving Castle')\u001b[0m\n\u001b[1;37m                ^\u001b[0m\n\u001b[1;31mSyntaxError\u001b[0m\u001b[1;31m:\u001b[0m invalid syntax\n"
     ]
    }
   ],
   "source": [
    "print('Howl's Moving Castle') # it is not working because we use single on two places"
   ]
  },
  {
   "cell_type": "code",
   "execution_count": 9,
   "id": "819203fa",
   "metadata": {},
   "outputs": [
    {
     "name": "stdout",
     "output_type": "stream",
     "text": [
      "This house is \"very\" nice\n"
     ]
    }
   ],
   "source": [
    "print('This house is \"very\" nice')"
   ]
  },
  {
   "cell_type": "markdown",
   "id": "8b29ff58",
   "metadata": {},
   "source": [
    "5. How do you write a string of newlines if you don&#39;t want to use the n character?\n"
   ]
  },
  {
   "cell_type": "code",
   "execution_count": 10,
   "id": "afc624ce",
   "metadata": {},
   "outputs": [
    {
     "name": "stdout",
     "output_type": "stream",
     "text": [
      "My name is\n",
      "Rahul\n"
     ]
    }
   ],
   "source": [
    "print('My name is',end='\\n')\n",
    "print('Rahul')"
   ]
  },
  {
   "cell_type": "markdown",
   "id": "742aee39",
   "metadata": {},
   "source": [
    "6. What are the values of the given expressions?\n",
    "&#39;Hello, world!&#39;[1]\n",
    "&#39;Hello, world!&#39;[0:5]\n",
    "&#39;Hello, world!&#39;[:5]\n",
    "&#39;Hello, world!&#39;[3:]"
   ]
  },
  {
   "cell_type": "code",
   "execution_count": 11,
   "id": "a2d2779a",
   "metadata": {},
   "outputs": [
    {
     "data": {
      "text/plain": [
       "'e'"
      ]
     },
     "execution_count": 11,
     "metadata": {},
     "output_type": "execute_result"
    }
   ],
   "source": [
    "'Hello, world!'[1] "
   ]
  },
  {
   "cell_type": "code",
   "execution_count": 12,
   "id": "ef440977",
   "metadata": {},
   "outputs": [
    {
     "data": {
      "text/plain": [
       "'Hello'"
      ]
     },
     "execution_count": 12,
     "metadata": {},
     "output_type": "execute_result"
    }
   ],
   "source": [
    "'Hello, world!'[0:5]"
   ]
  },
  {
   "cell_type": "code",
   "execution_count": 13,
   "id": "fa8d06bf",
   "metadata": {},
   "outputs": [
    {
     "data": {
      "text/plain": [
       "'Hello'"
      ]
     },
     "execution_count": 13,
     "metadata": {},
     "output_type": "execute_result"
    }
   ],
   "source": [
    "'Hello, world!'[:5] "
   ]
  },
  {
   "cell_type": "code",
   "execution_count": 14,
   "id": "c9a08fca",
   "metadata": {},
   "outputs": [
    {
     "data": {
      "text/plain": [
       "'lo, world!'"
      ]
     },
     "execution_count": 14,
     "metadata": {},
     "output_type": "execute_result"
    }
   ],
   "source": [
    "'Hello, world!'[3:]"
   ]
  },
  {
   "cell_type": "markdown",
   "id": "c7a3c781",
   "metadata": {},
   "source": [
    "7. What are the values of the following expressions?\n",
    "&#39;Hello&#39;.upper()\n",
    "&#39;Hello&#39;.upper().isupper()\n",
    "&#39;Hello&#39;.upper().lower()"
   ]
  },
  {
   "cell_type": "code",
   "execution_count": 15,
   "id": "a7fe43c9",
   "metadata": {},
   "outputs": [
    {
     "data": {
      "text/plain": [
       "'HELLO'"
      ]
     },
     "execution_count": 15,
     "metadata": {},
     "output_type": "execute_result"
    }
   ],
   "source": [
    "'Hello'.upper() "
   ]
  },
  {
   "cell_type": "code",
   "execution_count": 16,
   "id": "01137250",
   "metadata": {},
   "outputs": [
    {
     "data": {
      "text/plain": [
       "True"
      ]
     },
     "execution_count": 16,
     "metadata": {},
     "output_type": "execute_result"
    }
   ],
   "source": [
    "'Hello'.upper().isupper() "
   ]
  },
  {
   "cell_type": "code",
   "execution_count": 17,
   "id": "67dd3895",
   "metadata": {},
   "outputs": [
    {
     "data": {
      "text/plain": [
       "'hello'"
      ]
     },
     "execution_count": 17,
     "metadata": {},
     "output_type": "execute_result"
    }
   ],
   "source": [
    "'Hello'.upper().lower()"
   ]
  },
  {
   "cell_type": "markdown",
   "id": "5ce77b80",
   "metadata": {},
   "source": [
    "8. What are the values of the following expressions?\n",
    "&#39;Remember, remember, the fifth of July.&#39;.split()\n",
    "&#39;-&#39;.join(&#39;There can only one.&#39;.split())"
   ]
  },
  {
   "cell_type": "code",
   "execution_count": 20,
   "id": "2b4c175b",
   "metadata": {},
   "outputs": [
    {
     "data": {
      "text/plain": [
       "['Remember,', 'remember,', 'the', 'fifth', 'of', 'July.']"
      ]
     },
     "execution_count": 20,
     "metadata": {},
     "output_type": "execute_result"
    }
   ],
   "source": [
    "'Remember, remember, the fifth of July.'.split()"
   ]
  },
  {
   "cell_type": "code",
   "execution_count": 21,
   "id": "55f49367",
   "metadata": {},
   "outputs": [
    {
     "data": {
      "text/plain": [
       "'There-can-only-one.'"
      ]
     },
     "execution_count": 21,
     "metadata": {},
     "output_type": "execute_result"
    }
   ],
   "source": [
    "'-'.join('There can only one.'.split())"
   ]
  },
  {
   "cell_type": "markdown",
   "id": "55d64d91",
   "metadata": {},
   "source": [
    "9. What are the methods for right-justifying, left-justifying, and centering a string?\n"
   ]
  },
  {
   "cell_type": "code",
   "execution_count": 24,
   "id": "58b42f40",
   "metadata": {},
   "outputs": [
    {
     "data": {
      "text/plain": [
       "'welcome to india########################'"
      ]
     },
     "execution_count": 24,
     "metadata": {},
     "output_type": "execute_result"
    }
   ],
   "source": [
    "cstr = 'welcome to india'\n",
    "cstr.ljust(40, '#')"
   ]
  },
  {
   "cell_type": "code",
   "execution_count": 25,
   "id": "a61951b9",
   "metadata": {},
   "outputs": [
    {
     "data": {
      "text/plain": [
       "'########################welcome to india'"
      ]
     },
     "execution_count": 25,
     "metadata": {},
     "output_type": "execute_result"
    }
   ],
   "source": [
    "cstr = 'welcome to india'\n",
    "cstr.rjust(40, '#')"
   ]
  },
  {
   "cell_type": "code",
   "execution_count": 23,
   "id": "5c80f5a0",
   "metadata": {},
   "outputs": [
    {
     "data": {
      "text/plain": [
       "'############welcome to india############'"
      ]
     },
     "execution_count": 23,
     "metadata": {},
     "output_type": "execute_result"
    }
   ],
   "source": [
    "cstr = 'welcome to india'\n",
    "cstr.center(40, '#')"
   ]
  },
  {
   "cell_type": "markdown",
   "id": "504030c7",
   "metadata": {},
   "source": [
    "10. What is the best way to remove whitespace characters from the start or end?"
   ]
  },
  {
   "cell_type": "code",
   "execution_count": 26,
   "id": "1d7eac67",
   "metadata": {},
   "outputs": [],
   "source": [
    "a = '    welcome to our new school      '"
   ]
  },
  {
   "cell_type": "code",
   "execution_count": 27,
   "id": "3a3a0dce",
   "metadata": {},
   "outputs": [
    {
     "data": {
      "text/plain": [
       "'welcome to our new school      '"
      ]
     },
     "execution_count": 27,
     "metadata": {},
     "output_type": "execute_result"
    }
   ],
   "source": [
    "a.lstrip()"
   ]
  },
  {
   "cell_type": "code",
   "execution_count": 28,
   "id": "67276719",
   "metadata": {},
   "outputs": [
    {
     "data": {
      "text/plain": [
       "'    welcome to our new school'"
      ]
     },
     "execution_count": 28,
     "metadata": {},
     "output_type": "execute_result"
    }
   ],
   "source": [
    "a.rstrip()"
   ]
  }
 ],
 "metadata": {
  "kernelspec": {
   "display_name": "Python 3 (ipykernel)",
   "language": "python",
   "name": "python3"
  },
  "language_info": {
   "codemirror_mode": {
    "name": "ipython",
    "version": 3
   },
   "file_extension": ".py",
   "mimetype": "text/x-python",
   "name": "python",
   "nbconvert_exporter": "python",
   "pygments_lexer": "ipython3",
   "version": "3.9.7"
  }
 },
 "nbformat": 4,
 "nbformat_minor": 5
}

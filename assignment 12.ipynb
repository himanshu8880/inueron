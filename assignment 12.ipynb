{
 "cells": [
  {
   "cell_type": "markdown",
   "id": "5bb17072",
   "metadata": {},
   "source": [
    "# 1. In what modes should the PdfFileReader() and PdfFileWriter() File objects will be opened?"
   ]
  },
  {
   "cell_type": "markdown",
   "id": "7b701fa2",
   "metadata": {},
   "source": [
    "Read-binary ('rb') for PdfFileReader() and write-binary ('wb') for PdfFileWriter()"
   ]
  },
  {
   "cell_type": "markdown",
   "id": "a73413b1",
   "metadata": {},
   "source": [
    "# 2. From a PdfFileReader object, how do you get a Page object for page 5?\n"
   ]
  },
  {
   "cell_type": "markdown",
   "id": "fb79ef1c",
   "metadata": {},
   "source": [
    "calling getPage(4) to get page 5 because page 0  is the first page"
   ]
  },
  {
   "cell_type": "markdown",
   "id": "eb72a038",
   "metadata": {},
   "source": [
    "# 3. What PdfFileReader variable stores the number of pages in the PDF document?\n"
   ]
  },
  {
   "cell_type": "markdown",
   "id": "243425fb",
   "metadata": {},
   "source": [
    "The total number of pages in the document is stored in the numPages attribute of a PdfFileReader object "
   ]
  },
  {
   "cell_type": "markdown",
   "id": "25c137d1",
   "metadata": {},
   "source": [
    "# 4. If a PdfFileReader object’s PDF is encrypted with the password swordfish, what must you do before you can obtain Page objects from it?\n"
   ]
  },
  {
   "cell_type": "markdown",
   "id": "0012e562",
   "metadata": {},
   "source": [
    "call decrypt('swordfish')"
   ]
  },
  {
   "cell_type": "markdown",
   "id": "be0ff86a",
   "metadata": {},
   "source": [
    "# 5. What methods do you use to rotate a page?\n"
   ]
  },
  {
   "cell_type": "markdown",
   "id": "2233b473",
   "metadata": {},
   "source": [
    "When you grab page zero, which is the first page. Then you call the page object’s.rotateClockwise () method and pass in 90 degrees. Then for page two, you call.rotateCounterClockwise () and pass it 90 degrees as well."
   ]
  },
  {
   "cell_type": "markdown",
   "id": "5de0d972",
   "metadata": {},
   "source": [
    "# 6. What is the difference between a Run object and a Paragraph object?\n"
   ]
  },
  {
   "cell_type": "markdown",
   "id": "f5753dba",
   "metadata": {},
   "source": [
    "Each Paragraph object also has a runs attribute that is a list of Run objects. Run objects also have a text attribute, containing just the text in that particular run."
   ]
  },
  {
   "cell_type": "markdown",
   "id": "817d6553",
   "metadata": {},
   "source": [
    "# 7. How do you obtain a list of Paragraph objects for a Document object that’s stored in a variable named doc?\n"
   ]
  },
  {
   "cell_type": "markdown",
   "id": "4445761f",
   "metadata": {},
   "source": [
    "use doc.paragraphs"
   ]
  },
  {
   "cell_type": "markdown",
   "id": "491eb7d8",
   "metadata": {},
   "source": [
    "# 8. What type of object has bold, underline, italic, strike, and outline variables?\n"
   ]
  },
  {
   "cell_type": "markdown",
   "id": "9bad0e92",
   "metadata": {},
   "source": [
    "A run object has these variables"
   ]
  },
  {
   "cell_type": "markdown",
   "id": "65414867",
   "metadata": {},
   "source": [
    "# 9. What is the difference between False, True, and None for the bold variable?\n"
   ]
  },
  {
   "cell_type": "markdown",
   "id": "a53b627c",
   "metadata": {},
   "source": [
    "True always makes the Run object bolded and False makes it always not bolded\n",
    "\n",
    "None will make the Run object just use the style’s bold setting."
   ]
  },
  {
   "cell_type": "markdown",
   "id": "e5e4d2ca",
   "metadata": {},
   "source": [
    "# 10. How do you create a Document object for a new Word document?\n"
   ]
  },
  {
   "cell_type": "markdown",
   "id": "c22dd6a8",
   "metadata": {},
   "source": [
    "Call the docx.Document() function."
   ]
  },
  {
   "cell_type": "markdown",
   "id": "3bf4d5c6",
   "metadata": {},
   "source": [
    "# 11. How do you add a paragraph with the text &#39;Hello, there!&#39; to a Document object stored in a variable named doc?\n"
   ]
  },
  {
   "cell_type": "markdown",
   "id": "848bae51",
   "metadata": {},
   "source": [
    "doc.add_paragraph('Hello there!')"
   ]
  },
  {
   "cell_type": "markdown",
   "id": "554c9982",
   "metadata": {},
   "source": [
    "# 12. What integers represent the levels of headings available in Word documents?"
   ]
  },
  {
   "cell_type": "markdown",
   "id": "aabf77d3",
   "metadata": {},
   "source": [
    "The integers are 0,1,2,3,4"
   ]
  },
  {
   "cell_type": "code",
   "execution_count": null,
   "id": "1259cfd3",
   "metadata": {},
   "outputs": [],
   "source": []
  }
 ],
 "metadata": {
  "kernelspec": {
   "display_name": "Python 3 (ipykernel)",
   "language": "python",
   "name": "python3"
  },
  "language_info": {
   "codemirror_mode": {
    "name": "ipython",
    "version": 3
   },
   "file_extension": ".py",
   "mimetype": "text/x-python",
   "name": "python",
   "nbconvert_exporter": "python",
   "pygments_lexer": "ipython3",
   "version": "3.9.7"
  }
 },
 "nbformat": 4,
 "nbformat_minor": 5
}

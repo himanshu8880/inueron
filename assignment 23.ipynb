{
 "cells": [
  {
   "cell_type": "markdown",
   "id": "fe9fd74b",
   "metadata": {},
   "source": [
    "# 1. What is the result of the code, and why?"
   ]
  },
  {
   "cell_type": "code",
   "execution_count": 3,
   "id": "f5cc02ef",
   "metadata": {},
   "outputs": [
    {
     "name": "stdout",
     "output_type": "stream",
     "text": [
      "1 2 8\n"
     ]
    }
   ],
   "source": [
    "def func(a, b=6, c=8):\n",
    "    print(a, b, c)\n",
    "func(1, 2)\n"
   ]
  },
  {
   "cell_type": "markdown",
   "id": "57e245fd",
   "metadata": {},
   "source": [
    "Here as we have hardcoded and sent 2 values therefore preference is given to the input user gives. so a=1,b=2,c as by default argument 8."
   ]
  },
  {
   "cell_type": "markdown",
   "id": "56de0091",
   "metadata": {},
   "source": [
    "# 2. What is the result of this code, and why?\n"
   ]
  },
  {
   "cell_type": "code",
   "execution_count": 4,
   "id": "0d739bb8",
   "metadata": {},
   "outputs": [
    {
     "name": "stdout",
     "output_type": "stream",
     "text": [
      "1 2 3\n"
     ]
    }
   ],
   "source": [
    "def func(a, b, c=5):\n",
    "    print(a, b, c)\n",
    "func(1, c=3, b=2)"
   ]
  },
  {
   "cell_type": "markdown",
   "id": "05768e31",
   "metadata": {},
   "source": [
    "here a=1,b=2(hardcoded by user),c=3(hardcoded by user). position doesnt matter as long as we have mentioned the variable to which value is assigned."
   ]
  },
  {
   "cell_type": "markdown",
   "id": "f159e176",
   "metadata": {},
   "source": [
    "# 3. How about this code: what is its result, and why?\n"
   ]
  },
  {
   "cell_type": "code",
   "execution_count": 5,
   "id": "97524e67",
   "metadata": {},
   "outputs": [
    {
     "name": "stdout",
     "output_type": "stream",
     "text": [
      "1 (2, 3)\n"
     ]
    }
   ],
   "source": [
    "def func(a, *pargs):\n",
    "     print(a, pargs)\n",
    "func(1, 2, 3)"
   ]
  },
  {
   "cell_type": "markdown",
   "id": "93a4e436",
   "metadata": {},
   "source": [
    "Here a=1. *pargs returns as many argument user gives as input in form of tuples"
   ]
  },
  {
   "cell_type": "markdown",
   "id": "5f6d3e46",
   "metadata": {},
   "source": [
    "# 4. What does this code print, and why?\n"
   ]
  },
  {
   "cell_type": "code",
   "execution_count": 6,
   "id": "dd85f865",
   "metadata": {},
   "outputs": [
    {
     "name": "stdout",
     "output_type": "stream",
     "text": [
      "1 {'c': 3, 'b': 2}\n"
     ]
    }
   ],
   "source": [
    "def func(a, **kargs):\n",
    "    print(a, kargs)\n",
    "func(a=1, c=3, b=2)"
   ]
  },
  {
   "cell_type": "markdown",
   "id": "ce921a55",
   "metadata": {},
   "source": [
    "Here a=1. **kargs returns as many argument user gives as input in form of dictionary"
   ]
  },
  {
   "cell_type": "markdown",
   "id": "acf9f40d",
   "metadata": {},
   "source": [
    "# 5. What gets printed by this, and explain?\n"
   ]
  },
  {
   "cell_type": "code",
   "execution_count": 7,
   "id": "c4e5c817",
   "metadata": {},
   "outputs": [
    {
     "name": "stdout",
     "output_type": "stream",
     "text": [
      "1 5 6 5\n"
     ]
    }
   ],
   "source": [
    "def func(a, b, c=8, d=5): print(a, b, c, d)\n",
    "func(1, *(5, 6))"
   ]
  },
  {
   "cell_type": "markdown",
   "id": "b0e3868a",
   "metadata": {},
   "source": [
    "Here a=1. User input is given in the form of kargs. So as many variable is present that many times the value passed as kargs input will get printed.So here a=1,b=5,c=6,d=again 5."
   ]
  },
  {
   "cell_type": "markdown",
   "id": "28c25cb0",
   "metadata": {},
   "source": [
    "# 6. what is the result of this, and explain?\n"
   ]
  },
  {
   "cell_type": "code",
   "execution_count": 8,
   "id": "2846faad",
   "metadata": {},
   "outputs": [
    {
     "data": {
      "text/plain": [
       "(1, ['x'], {'a': 'y'})"
      ]
     },
     "execution_count": 8,
     "metadata": {},
     "output_type": "execute_result"
    }
   ],
   "source": [
    "def func(a, b, c): a = 2; b[0] = 'x'; c['a'] = 'y'\n",
    "l=1; m=[1]; n={'a':0}\n",
    "func(l, m, n)\n",
    "l, m, n"
   ]
  },
  {
   "cell_type": "markdown",
   "id": "8a0e9ff9",
   "metadata": {},
   "source": [
    "Here in func(l,m,n) we passed l=1(user input), m is passed as list contain 1 element i.e 'x', n is passed as dictionary i.e {'a':'y'}"
   ]
  }
 ],
 "metadata": {
  "kernelspec": {
   "display_name": "Python 3 (ipykernel)",
   "language": "python",
   "name": "python3"
  },
  "language_info": {
   "codemirror_mode": {
    "name": "ipython",
    "version": 3
   },
   "file_extension": ".py",
   "mimetype": "text/x-python",
   "name": "python",
   "nbconvert_exporter": "python",
   "pygments_lexer": "ipython3",
   "version": "3.9.7"
  }
 },
 "nbformat": 4,
 "nbformat_minor": 5
}

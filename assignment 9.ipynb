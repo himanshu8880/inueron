{
 "cells": [
  {
   "cell_type": "markdown",
   "id": "2ec88daa",
   "metadata": {},
   "source": [
    "# 1. To what does a relative path refer?\n"
   ]
  },
  {
   "cell_type": "markdown",
   "id": "3ab3da8b",
   "metadata": {},
   "source": [
    " A relative path refers to a location that is relative to a current directory. Relative paths make use of two special symbols, a dot (.) and a double-dot (..), which translate into the current directory and the parent directory."
   ]
  },
  {
   "cell_type": "markdown",
   "id": "41251507",
   "metadata": {},
   "source": [
    "# 2. What does an absolute path start with your operating system?\n"
   ]
  },
  {
   "cell_type": "markdown",
   "id": "4705720c",
   "metadata": {},
   "source": [
    "An absolute path refers to the complete details needed to locate a file or folder, starting from the root element and ending with the other subdirectories."
   ]
  },
  {
   "cell_type": "markdown",
   "id": "d39b5db8",
   "metadata": {},
   "source": [
    "# 3. What do the functions os.getcwd() and os.chdir() do?\n"
   ]
  },
  {
   "cell_type": "markdown",
   "id": "4f09e5c0",
   "metadata": {},
   "source": [
    "os.getcwd()-> get the current working directory as a string value."
   ]
  },
  {
   "cell_type": "markdown",
   "id": "b027936a",
   "metadata": {},
   "source": [
    "os.chdir()-> change the current working directory to the argument."
   ]
  },
  {
   "cell_type": "markdown",
   "id": "fe3d6315",
   "metadata": {},
   "source": [
    "# 4. What are the . and .. folders?\n"
   ]
  },
  {
   "cell_type": "markdown",
   "id": "00c3b2f7",
   "metadata": {},
   "source": [
    "  The . is the current directory, while .. signifies the parent directory."
   ]
  },
  {
   "cell_type": "markdown",
   "id": "1f074ef0",
   "metadata": {},
   "source": [
    "# 5. In C:\\bacon\\eggs\\spam.txt, which part is the dir name, and which part is the base name?\n"
   ]
  },
  {
   "cell_type": "markdown",
   "id": "7b3f2c3a",
   "metadata": {},
   "source": [
    "basename -> spam.txt\n",
    "\n",
    "dir name -> C:\\bacon\\eggs"
   ]
  },
  {
   "cell_type": "markdown",
   "id": "84d85122",
   "metadata": {},
   "source": [
    "# 6. What are the three “mode” arguments that can be passed to the open() function?\n"
   ]
  },
  {
   "cell_type": "markdown",
   "id": "da4cc18a",
   "metadata": {},
   "source": [
    "'r' -> Read mode. (default)\n",
    "\n",
    "'w' -> Write mode. Creates a new file if it does not exist or truncates the file if it exists.\n",
    "\n",
    "'x' -> Open a file for exclusive creation. If the file already exists, the operation fails.\n",
    "\n",
    "'a' -> Appending at the end of the file without truncating it. Creates a new file if it does not exist.\n",
    "\n",
    "'t' -> Open in text mode. (default)\n",
    "\n",
    "'b' -> Open in binary mode.\n",
    "\n",
    "'+' -> Open a file for updating (reading and writing)"
   ]
  },
  {
   "cell_type": "markdown",
   "id": "a02caefe",
   "metadata": {},
   "source": [
    "# 7. What happens if an existing file is opened in write mode?\n"
   ]
  },
  {
   "cell_type": "markdown",
   "id": "a2890f3c",
   "metadata": {},
   "source": [
    " If a file is already present on a system, then all the data inside the file is truncated, and it is opened for writing purposes."
   ]
  },
  {
   "cell_type": "markdown",
   "id": "cf000799",
   "metadata": {},
   "source": [
    "# 8. How do you tell the difference between read() and readlines()?\n"
   ]
  },
  {
   "cell_type": "markdown",
   "id": "26cf2f1e",
   "metadata": {},
   "source": [
    "Read () The Read () reads the next characters from the standard input stream. If a key is pressed on the console, then it would close.\n",
    "\n",
    "ReadLine () It reads the next line of characters from the standard input stream."
   ]
  },
  {
   "cell_type": "markdown",
   "id": "c289eda6",
   "metadata": {},
   "source": [
    "# 9. What data structure does a shelf value resemble?"
   ]
  },
  {
   "cell_type": "markdown",
   "id": "ca92b1a3",
   "metadata": {},
   "source": [
    "A shelf value resembles a dictionary value; it has keys and values, along with keys() and values() methods that work similarly to the dictionary methods of the same names."
   ]
  }
 ],
 "metadata": {
  "kernelspec": {
   "display_name": "Python 3 (ipykernel)",
   "language": "python",
   "name": "python3"
  },
  "language_info": {
   "codemirror_mode": {
    "name": "ipython",
    "version": 3
   },
   "file_extension": ".py",
   "mimetype": "text/x-python",
   "name": "python",
   "nbconvert_exporter": "python",
   "pygments_lexer": "ipython3",
   "version": "3.9.7"
  }
 },
 "nbformat": 4,
 "nbformat_minor": 5
}

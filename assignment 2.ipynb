{
 "cells": [
  {
   "cell_type": "raw",
   "id": "36f68e47",
   "metadata": {},
   "source": [
    "1.What are the two values of the Boolean data type? How do you write them?\n",
    "ans. Boolean type - Trur,False"
   ]
  },
  {
   "cell_type": "raw",
   "id": "59df4153",
   "metadata": {},
   "source": [
    "2. What are the three different types of Boolean operators?\n",
    "ans. Three different types of Boolean operators are - \n",
    "      1.Comparison operators\n",
    "      2.Binary boolean operators\n",
    "      3.Not operator"
   ]
  },
  {
   "cell_type": "raw",
   "id": "7c0299e6",
   "metadata": {},
   "source": [
    "3. Make a list of each Boolean operator's truth tables (i.e. every possible combination of Boolean values for the operator and what it evaluate ).\n",
    "ans. 1. AND operator\n",
    "        \n",
    "     Input A\tInput B\tOutput Q\n",
    "       0\t       0\t  0\n",
    "       0\t       1\t  0\n",
    "       1\t       0\t  0\n",
    "       1\t       1\t  1\n",
    "       \n",
    "     2. OR operator\n",
    "       Input A\tInput B\tOutput Q\n",
    "         0\t       0\t  0\n",
    "         0\t       1\t  1\n",
    "         1\t       0\t  1\n",
    "         1\t       1\t  1\n",
    "         \n",
    "     3. NOT operator\n",
    "        Input A\tOutput Q\n",
    "           0\t 1\n",
    "           1\t 0"
   ]
  },
  {
   "cell_type": "raw",
   "id": "6f2db34b",
   "metadata": {},
   "source": [
    "4. What are the values of the following expressions?\n",
    "(5 > 4) and (3 == 5)\n",
    "not (5 > 4)\n",
    "(5 > 4) or (3 == 5)\n",
    "not ((5 > 4) or (3 == 5))\n",
    "(True and True) and (True == False)\n",
    "(not False) or (not True)\n",
    "\n",
    "ans. False\n",
    "     False\n",
    "     False\n",
    "     True\n",
    "     False\n",
    "     False\n",
    "     True"
   ]
  },
  {
   "cell_type": "raw",
   "id": "2b70b0f3",
   "metadata": {},
   "source": [
    "5. What are the six comparison operators?\n",
    "ans. Six comparison operators are - \n",
    "     1. Equal to (==)\n",
    "     2. Less than (<)\n",
    "     3. Greater than (>)\n",
    "     4. Not equal to (!=)\n",
    "     5. Less than or equal to (<=)\n",
    "     6. Greater than or equal to (>=)"
   ]
  },
  {
   "cell_type": "raw",
   "id": "e4dc2354",
   "metadata": {},
   "source": [
    "6. How do you tell the difference between the equal to and assignment operators?Describe a condition and when you would use one.\n",
    "ans.  = operator\n",
    "     The “=” is an assignment operator is used to assign the value on the right to the variable on the left.\n",
    "     \n",
    "     == operator\n",
    "    The ‘==’ operator checks whether the two given operands are equal or not. If so, it returns true. Otherwise it returns     false.\n",
    "      "
   ]
  },
  {
   "cell_type": "code",
   "execution_count": 12,
   "id": "0090dee7",
   "metadata": {},
   "outputs": [
    {
     "name": "stdout",
     "output_type": "stream",
     "text": [
      "a is not equal to b\n"
     ]
    }
   ],
   "source": [
    "a = 10\n",
    "b = 20\n",
    "if a == b:\n",
    "    print('a is equal to b')\n",
    "else:\n",
    "    print('a is not equal to b')"
   ]
  },
  {
   "cell_type": "raw",
   "id": "f9db0ed8",
   "metadata": {},
   "source": [
    "7. Identify the three blocks in this code:\n",
    "spam = 0\n",
    "if spam == 10:\n",
    "print('eggs')\n",
    "if spam > 5:\n",
    "print('bacon')\n",
    "else:\n",
    "print('ham')\n",
    "print('spam')\n",
    "print('spam')"
   ]
  },
  {
   "cell_type": "code",
   "execution_count": 13,
   "id": "04df198c",
   "metadata": {},
   "outputs": [
    {
     "name": "stdout",
     "output_type": "stream",
     "text": [
      "ham\n",
      "spam\n",
      "spam\n"
     ]
    }
   ],
   "source": [
    "spam = 0\n",
    "if spam == 10:\n",
    "    print('eggs')\n",
    "if spam > 5:\n",
    "    print('bacon')\n",
    "else:\n",
    "    print('ham')\n",
    "    print('spam')\n",
    "    print('spam')"
   ]
  },
  {
   "cell_type": "raw",
   "id": "00a8f17a",
   "metadata": {},
   "source": [
    "8. Write code that prints Hello if 1 is stored in spam, prints Howdy if 2 is stored in spam, and prints Greetings! if anything else is stored in spam. "
   ]
  },
  {
   "cell_type": "code",
   "execution_count": 14,
   "id": "28c60642",
   "metadata": {},
   "outputs": [
    {
     "name": "stdout",
     "output_type": "stream",
     "text": [
      "Enter the value:1\n",
      "Hello\n"
     ]
    }
   ],
   "source": [
    "spam = int(input('Enter the value:'))\n",
    "if spam == 1:\n",
    "    print('Hello')\n",
    "elif spam == 2:\n",
    "    print('Howdy')\n",
    "else:\n",
    "    print('Greetings!')"
   ]
  },
  {
   "cell_type": "raw",
   "id": "1c32039f",
   "metadata": {},
   "source": [
    "9.If your programme is stuck in an endless loop, what keys you’ll press?\n",
    "ans. ctrl +c"
   ]
  },
  {
   "cell_type": "raw",
   "id": "4afffc51",
   "metadata": {},
   "source": [
    "10. How can you tell the difference between break and continue?\n",
    "ans. The main difference between break and continue is that break is used for immediate termination of loop. On the other        hand, ‘continue’ terminate the current iteration and resumes the control to the next iteration of the loop. The break      statement is primarily used as the exit statement, which helps in escaping from the current block or loop.\n"
   ]
  },
  {
   "cell_type": "raw",
   "id": "b69e9861",
   "metadata": {},
   "source": [
    "11. In a for loop, what is the difference between range(10), range(0, 10), and range(0, 10, 1)\n",
    "ans. There is no difference"
   ]
  },
  {
   "cell_type": "raw",
   "id": "196fd731",
   "metadata": {},
   "source": [
    "12. Write a short program that prints the numbers 1 to 10 using a for loop. Then write an equivalent program that prints the numbers 1 to 10 using a while loop."
   ]
  },
  {
   "cell_type": "code",
   "execution_count": 22,
   "id": "dfbbca61",
   "metadata": {},
   "outputs": [
    {
     "name": "stdout",
     "output_type": "stream",
     "text": [
      "1\n",
      "2\n",
      "3\n",
      "4\n",
      "5\n",
      "6\n",
      "7\n",
      "8\n",
      "9\n",
      "10\n"
     ]
    }
   ],
   "source": [
    "for i in range(1,11):\n",
    "    print(i)"
   ]
  },
  {
   "cell_type": "code",
   "execution_count": 24,
   "id": "cfd8ebc1",
   "metadata": {},
   "outputs": [
    {
     "name": "stdout",
     "output_type": "stream",
     "text": [
      "1\n",
      "2\n",
      "3\n",
      "4\n",
      "5\n",
      "6\n",
      "7\n",
      "8\n",
      "9\n",
      "10\n"
     ]
    }
   ],
   "source": [
    "i=1\n",
    "while i<11:\n",
    "    print(i)\n",
    "    i +=1"
   ]
  },
  {
   "cell_type": "raw",
   "id": "7cadd0dd",
   "metadata": {},
   "source": [
    "13. If you had a function named bacon() inside a module named spam, how would you call it after importing spam?\n",
    "ans. from spam import bacon\n",
    "      \n",
    "      or we can also use\n",
    "      \n",
    "     import spam\n",
    "     spam.bacon()"
   ]
  }
 ],
 "metadata": {
  "kernelspec": {
   "display_name": "Python 3 (ipykernel)",
   "language": "python",
   "name": "python3"
  },
  "language_info": {
   "codemirror_mode": {
    "name": "ipython",
    "version": 3
   },
   "file_extension": ".py",
   "mimetype": "text/x-python",
   "name": "python",
   "nbconvert_exporter": "python",
   "pygments_lexer": "ipython3",
   "version": "3.9.7"
  }
 },
 "nbformat": 4,
 "nbformat_minor": 5
}

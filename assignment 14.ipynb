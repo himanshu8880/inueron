{
 "cells": [
  {
   "cell_type": "markdown",
   "id": "eccd2a65",
   "metadata": {},
   "source": [
    "# 1. What does RGBA stand for?"
   ]
  },
  {
   "cell_type": "markdown",
   "id": "3b2c0100",
   "metadata": {},
   "source": [
    "RDBA stands for Red, Green, Blue, Alpha"
   ]
  },
  {
   "cell_type": "markdown",
   "id": "ff2fdb44",
   "metadata": {},
   "source": [
    "# 2. From the Pillow module, how do you get the RGBA value of any images?\n"
   ]
  },
  {
   "cell_type": "markdown",
   "id": "e63e2b08",
   "metadata": {},
   "source": [
    "A function call to ImageColor.getcolor('CornflowerBlue', 'RGBA') will return (100, 149, 237, 255)"
   ]
  },
  {
   "cell_type": "markdown",
   "id": "7db9a7b8",
   "metadata": {},
   "source": [
    "# 3. What is a box tuple, and how does it work?\n"
   ]
  },
  {
   "cell_type": "markdown",
   "id": "643f9eae",
   "metadata": {},
   "source": [
    "\n",
    "The box.tuple submodule provides read-only access for the tuple userdata type. It allows, for a single tuple: selective retrieval of the field contents, retrieval of information about size, iteration over all the fields, and conversion to a Lua table."
   ]
  },
  {
   "cell_type": "markdown",
   "id": "a9da91d7",
   "metadata": {},
   "source": [
    "# 4. Use your image and load in notebook then, How can you find out the width and height of an Image object?\n"
   ]
  },
  {
   "cell_type": "markdown",
   "id": "50e2a5cf",
   "metadata": {},
   "source": [
    "imageObj.size is a tuple of two integers, the width and the height."
   ]
  },
  {
   "cell_type": "markdown",
   "id": "1d7388a9",
   "metadata": {},
   "source": [
    "# 5. What method would you call to get Image object for a 100×100 image, excluding the lower-left quarter of it?\n"
   ]
  },
  {
   "cell_type": "markdown",
   "id": "76f11996",
   "metadata": {},
   "source": [
    "ImageObject.crop((0, 50, 50, 50))"
   ]
  },
  {
   "cell_type": "markdown",
   "id": "60e0fab1",
   "metadata": {},
   "source": [
    "# 6. After making changes to an Image object, how could you save it as an image file?\n"
   ]
  },
  {
   "cell_type": "markdown",
   "id": "59ad5ce0",
   "metadata": {},
   "source": [
    "By Calling the imageObj.save('new_filename.png') method of the Image object."
   ]
  },
  {
   "cell_type": "markdown",
   "id": "a227577b",
   "metadata": {},
   "source": [
    "# 7. What module contains Pillow’s shape-drawing code?\n"
   ]
  },
  {
   "cell_type": "markdown",
   "id": "2de2aba6",
   "metadata": {},
   "source": [
    "ImageDraw module"
   ]
  },
  {
   "cell_type": "markdown",
   "id": "50c68434",
   "metadata": {},
   "source": [
    "# 8. Image objects do not have drawing methods. What kind of object does? How do you get this kind of object?\n"
   ]
  },
  {
   "cell_type": "markdown",
   "id": "6ec16e84",
   "metadata": {},
   "source": [
    "ImageDraw objects have shape-drawing methods such as point(), line(), or rectangle(). They are returned by passing the Image object to the ImageDraw.Draw() function."
   ]
  }
 ],
 "metadata": {
  "kernelspec": {
   "display_name": "Python 3 (ipykernel)",
   "language": "python",
   "name": "python3"
  },
  "language_info": {
   "codemirror_mode": {
    "name": "ipython",
    "version": 3
   },
   "file_extension": ".py",
   "mimetype": "text/x-python",
   "name": "python",
   "nbconvert_exporter": "python",
   "pygments_lexer": "ipython3",
   "version": "3.9.7"
  }
 },
 "nbformat": 4,
 "nbformat_minor": 5
}
